{
 "cells": [
  {
   "cell_type": "markdown",
   "id": "9fc51599-6142-4210-ba6e-d6e9e0fbe4cd",
   "metadata": {},
   "source": [
    "# Training"
   ]
  },
  {
   "cell_type": "markdown",
   "id": "5516a50e-1c49-46d0-a5db-817b64fb403e",
   "metadata": {},
   "source": [
    "In this notebook, we are going to finetune models pretrained on ImageNet to our dataset."
   ]
  },
  {
   "cell_type": "code",
   "execution_count": null,
   "id": "2bf0e3a3-9b20-4646-9a25-3f965f6b62fb",
   "metadata": {},
   "outputs": [],
   "source": [
    "# TODO data loaders (ImageFolder)\n",
    "# TODO data preprocessing\n",
    "# TODO training cycle\n",
    "# TODO evaluation"
   ]
  }
 ],
 "metadata": {
  "kernelspec": {
   "display_name": "Python 3",
   "language": "python",
   "name": "python3"
  },
  "language_info": {
   "codemirror_mode": {
    "name": "ipython",
    "version": 3
   },
   "file_extension": ".py",
   "mimetype": "text/x-python",
   "name": "python",
   "nbconvert_exporter": "python",
   "pygments_lexer": "ipython3",
   "version": "3.9.3"
  }
 },
 "nbformat": 4,
 "nbformat_minor": 5
}
