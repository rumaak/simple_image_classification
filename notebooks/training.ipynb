{
 "cells": [
  {
   "cell_type": "markdown",
   "id": "9fc51599-6142-4210-ba6e-d6e9e0fbe4cd",
   "metadata": {},
   "source": [
    "# Training"
   ]
  },
  {
   "cell_type": "markdown",
   "id": "5516a50e-1c49-46d0-a5db-817b64fb403e",
   "metadata": {},
   "source": [
    "In this notebook, we are going to finetune models pretrained on ImageNet to our dataset."
   ]
  },
  {
   "cell_type": "code",
   "execution_count": null,
   "id": "2bf0e3a3-9b20-4646-9a25-3f965f6b62fb",
   "metadata": {},
   "outputs": [],
   "source": [
    "# TODO data loaders (ImageFolder)\n",
    "# TODO data preprocessing\n",
    "# TODO training cycle\n",
    "# TODO evaluation"
   ]
  },
  {
   "cell_type": "markdown",
   "id": "6570b0d3-f009-4dcc-8815-8a0152a6fec2",
   "metadata": {},
   "source": [
    "### Data"
   ]
  },
  {
   "cell_type": "code",
   "execution_count": null,
   "id": "ce6f5ece-24c1-4017-83d8-0af3c9b558d4",
   "metadata": {},
   "outputs": [],
   "source": [
    "data_transforms = {\n",
    "    'train': transforms.Compose([\n",
    "        transforms.ToTensor(),\n",
    "        transforms.Normalize([0.485, 0.456, 0.406], [0.229, 0.224, 0.225])\n",
    "    ]),\n",
    "    'val': transforms.Compose([\n",
    "        transforms.Resize(input_size),\n",
    "        transforms.CenterCrop(input_size),\n",
    "        transforms.ToTensor(),\n",
    "        transforms.Normalize([0.485, 0.456, 0.406], [0.229, 0.224, 0.225])\n",
    "    ]),\n",
    "}\n",
    "\n",
    "# Create training and validation datasets\n",
    "image_datasets = {\n",
    "    'train': datasets.ImageFolder(os.path.join(data_dir, x), data_transforms[x])\n",
    "}\n",
    "\n",
    "\n",
    "{x: datasets.ImageFolder(os.path.join(data_dir, x), data_transforms[x]) for x in ['train', 'val']}\n",
    "# Create training and validation dataloaders\n",
    "dataloaders_dict = {x: torch.utils.data.DataLoader(image_datasets[x], batch_size=batch_size, shuffle=True, num_workers=4) for x in ['train', 'val']}\n",
    "\n",
    "# Detect if we have a GPU available\n",
    "device = torch.device(\"cuda:0\" if torch.cuda.is_available() else \"cpu\")"
   ]
  }
 ],
 "metadata": {
  "kernelspec": {
   "display_name": "Python 3",
   "language": "python",
   "name": "python3"
  },
  "language_info": {
   "codemirror_mode": {
    "name": "ipython",
    "version": 3
   },
   "file_extension": ".py",
   "mimetype": "text/x-python",
   "name": "python",
   "nbconvert_exporter": "python",
   "pygments_lexer": "ipython3",
   "version": "3.9.3"
  }
 },
 "nbformat": 4,
 "nbformat_minor": 5
}
